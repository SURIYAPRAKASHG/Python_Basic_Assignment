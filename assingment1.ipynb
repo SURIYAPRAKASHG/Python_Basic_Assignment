{
 "cells": [
  {
   "cell_type": "markdown",
   "id": "c46fb703",
   "metadata": {},
   "source": [
    "1. In the below elements which of them are values or an expression? eg:- values can be integer or string and expressions will be mathematical operators.\n",
    "\n",
    "\n",
    "*        -> Expression\n",
    "'hello'  -> Value\n",
    "-87.8    -> Value\n",
    "-        -> Expression\n",
    "/        -> Expression\n",
    "+        -> Expression\n",
    "6        -> Value\n"
   ]
  },
  {
   "cell_type": "markdown",
   "id": "8a72850d",
   "metadata": {},
   "source": [
    "2. What is the difference between string and variable?\n",
    "\n",
    "String is a datatype that holds collection of character with single or doublr quotes.\n",
    "\n",
    "Variable is a variable that stores information or value."
   ]
  },
  {
   "cell_type": "markdown",
   "id": "874a4be5",
   "metadata": {},
   "source": [
    "Describe three different data types.\n",
    "\n",
    "1.Interger\n",
    "2.Float\n",
    "3.Bool\n",
    "4.String"
   ]
  },
  {
   "cell_type": "markdown",
   "id": "5c019dce",
   "metadata": {},
   "source": [
    "4. What is an expression made up of? What do all expressions do?\n",
    "\n",
    "Expression is made up of values and arithmetic operator. By expression we can do computation"
   ]
  },
  {
   "cell_type": "markdown",
   "id": "a2a16e10",
   "metadata": {},
   "source": [
    "5. This assignment statements, like spam = 10. What is the difference between an expression and a statement?\n",
    "\n",
    "Here Spam = 10 is statement. suppose if we do calculation by using spam its called expression\n",
    "e,g:  Spam * 2"
   ]
  },
  {
   "cell_type": "markdown",
   "id": "998fc69c",
   "metadata": {},
   "source": [
    "6. After running the following code, what does the variable bacon contain?\n",
    "bacon = 22\n",
    "bacon + 1\n",
    "\n",
    "bacon contain 22"
   ]
  },
  {
   "cell_type": "markdown",
   "id": "3cdcc5f4",
   "metadata": {},
   "source": [
    "7. What should the values of the following two terms be?\n",
    "\n",
    "'spam' + 'spamspam'  -> spamspamspam  -> addition concatenation\n",
    "'spam' * 3           -> spamspamspam  -> multiple of string\n"
   ]
  },
  {
   "cell_type": "markdown",
   "id": "f5f17ce8",
   "metadata": {},
   "source": [
    "8. Why is eggs a valid variable name while 100 is invalid?\n",
    "\n",
    "Egg is a valid varible, because varible must always begin with alphabet not with numeric.\n",
    "so egg is valid and 100 is invalid"
   ]
  },
  {
   "cell_type": "markdown",
   "id": "ca1a4f2f",
   "metadata": {},
   "source": [
    "9. What three functions can be used to get the integer, floating-point number, or string version of a value?\n",
    "\n",
    "int()\n",
    "float()\n",
    "str()"
   ]
  },
  {
   "cell_type": "markdown",
   "id": "9bb89d38",
   "metadata": {},
   "source": [
    "10. Why does this expression cause an error? How can you fix it?\n",
    "'I have eaten ' + 99 + ' burritos.'\n",
    "\n",
    "Here 99 is a integer.it cannot concatenate with string,so it throws error.\n",
    "BY changing the str(99) we can get the ouput \n",
    "\n",
    "'I have eaten ' + str(99) + ' burritos.'"
   ]
  }
 ],
 "metadata": {
  "kernelspec": {
   "display_name": "Python 3",
   "language": "python",
   "name": "python3"
  },
  "language_info": {
   "codemirror_mode": {
    "name": "ipython",
    "version": 3
   },
   "file_extension": ".py",
   "mimetype": "text/x-python",
   "name": "python",
   "nbconvert_exporter": "python",
   "pygments_lexer": "ipython3",
   "version": "3.8.8"
  }
 },
 "nbformat": 4,
 "nbformat_minor": 5
}
