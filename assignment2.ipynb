{
 "cells": [
  {
   "cell_type": "markdown",
   "id": "9d420931",
   "metadata": {},
   "source": [
    "1.What are the two values of the Boolean data type? How do you write them?\n",
    "\n",
    "True\n",
    "False"
   ]
  },
  {
   "cell_type": "markdown",
   "id": "1492bbac",
   "metadata": {},
   "source": [
    "2. What are the three different types of Boolean operators?\n",
    "\n",
    "AND\n",
    "OR\n",
    "NOT"
   ]
  },
  {
   "cell_type": "markdown",
   "id": "6520b30f",
   "metadata": {},
   "source": [
    "3. Make a list of each Boolean operator's truth tables (i.e. every possible combination of Boolean values for the operator and what it evaluate \n",
    "\n",
    "AND\n",
    "\n",
    "T   T   T\n",
    "T   F   F\n",
    "F   T   F\n",
    "F   F   F\n",
    "\n",
    "OR\n",
    "\n",
    "T   T   T\n",
    "T   F   T\n",
    "F   T   T\n",
    "F   F   F\n",
    "\n",
    "NOT\n",
    "\n",
    "T   F\n",
    "F   T"
   ]
  },
  {
   "cell_type": "markdown",
   "id": "7589e00c",
   "metadata": {},
   "source": [
    "4. What are the values of the following expressions?\n",
    "(5 > 4) and (3 == 5)                  -> False\n",
    "not (5 > 4)                           -> False\n",
    "(5 > 4) or (3 == 5)                   -> True\n",
    "not ((5 > 4) or (3 == 5))             -> False\n",
    "(True and True) and (True == False)   -> False\n",
    "(not False) or (not True)             -> True\n"
   ]
  },
  {
   "cell_type": "markdown",
   "id": "888d1d28",
   "metadata": {},
   "source": [
    "5. What are the six comparison operators?\n",
    "\n",
    "1.Greater than(>)\n",
    "2.Lesser than(<)\n",
    "3.Greater than or equal to(>=)\n",
    "4.Lesser than or equal to(<=)\n",
    "5.Equal to(==)\n",
    "6.Not equal to(!=)"
   ]
  },
  {
   "cell_type": "markdown",
   "id": "3886d3a9",
   "metadata": {},
   "source": [
    "6. How do you tell the difference between the equal to and assignment operators?Describe a condition and when you would use one.\n",
    "\n",
    "Equal to is used compare a varible or value with another.\n",
    "Assingment operator is used assign some value or strinf to a varible.\n",
    "\n",
    "Here\n",
    "a=10 # value 10 is assigned to a variable a\n",
    "\n",
    "a=10\n",
    "b= 5\n",
    "then \n",
    "\n",
    "a==b # here we checking the value of a is equal or not with values of b"
   ]
  },
  {
   "cell_type": "markdown",
   "id": "86b7dcd0",
   "metadata": {},
   "source": [
    "7. Identify the three blocks in this code:\n",
    "   \n",
    "Block 1:\n",
    "spam = 0\n",
    "\n",
    "Block 2:\n",
    "if spam == 10:\n",
    "    print('eggs')\n",
    "\n",
    "Block 3:\n",
    "\n",
    "if spam > 5: \n",
    "    print('bacon')\n",
    "else:\n",
    "    print('ham')\n",
    "    print('spam')\n",
    "    print('spam')\n"
   ]
  },
  {
   "cell_type": "markdown",
   "id": "b4dc47be",
   "metadata": {},
   "source": [
    "8. Write code that prints Hello if 1 is stored in spam, prints Howdy if 2 is stored in spam, and prints Greetings! if anything else is stored in spam.\n",
    "\n",
    "if spam == 1:\n",
    "    print(\"Hello\")\n",
    "elif spam == 2:\n",
    "    print(\"Howdy\")\n",
    "else:\n",
    "    print(\"Greetings\")"
   ]
  },
  {
   "cell_type": "markdown",
   "id": "221a8530",
   "metadata": {},
   "source": [
    "9.If your programme is stuck in an endless loop, what keys you’ll press?\n",
    "\n",
    "Ctrl+ C"
   ]
  },
  {
   "cell_type": "markdown",
   "id": "3f9e6977",
   "metadata": {},
   "source": [
    "10. How can you tell the difference between break and continue?\n",
    "\n",
    "Break -> it will exit from the loop\n",
    "Continue -> It will skip the current iteration of the loop "
   ]
  },
  {
   "cell_type": "markdown",
   "id": "2be66f00",
   "metadata": {},
   "source": [
    "11. In a for loop, what is the difference between range(10), range(0, 10), and range(0, 10, 1)?\n",
    "\n",
    "There is no difference in above range.It wil execute the loop from 0 to 9(10-1) with increment of 1."
   ]
  },
  {
   "cell_type": "markdown",
   "id": "2ef3eb2f",
   "metadata": {},
   "source": [
    "12. Write a short program that prints the numbers 1 to 10 using a for loop. Then write an equivalent program that prints the numbers 1 to 10 using a while loop.\n",
    "\n",
    "\n",
    "for i in range(1,11):\n",
    "    print(i)\n",
    "    \n",
    "i=1    \n",
    "while i < 11:\n",
    "    print(i)\n",
    "    i=i+1"
   ]
  },
  {
   "cell_type": "markdown",
   "id": "54a360da",
   "metadata": {},
   "source": [
    "13. If you had a function named bacon() inside a module named spam, how would you call it after importing spam?\n",
    "spam.bacon()."
   ]
  }
 ],
 "metadata": {
  "kernelspec": {
   "display_name": "Python 3",
   "language": "python",
   "name": "python3"
  },
  "language_info": {
   "codemirror_mode": {
    "name": "ipython",
    "version": 3
   },
   "file_extension": ".py",
   "mimetype": "text/x-python",
   "name": "python",
   "nbconvert_exporter": "python",
   "pygments_lexer": "ipython3",
   "version": "3.8.8"
  }
 },
 "nbformat": 4,
 "nbformat_minor": 5
}
